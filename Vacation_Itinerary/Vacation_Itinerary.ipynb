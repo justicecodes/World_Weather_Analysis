{
 "cells": [
  {
   "cell_type": "markdown",
   "metadata": {},
   "source": [
    "## Deliverable 3. Create a Travel Itinerary Map."
   ]
  },
  {
   "cell_type": "code",
   "execution_count": 10,
   "metadata": {},
   "outputs": [],
   "source": [
    "\n",
    "# Dependencies and Setup\n",
    "import pandas as pd\n",
    "import requests\n",
    "import gmaps\n",
    "\n",
    "# Import API key\n",
    "from config import g_key\n",
    "\n",
    "# Configure gmaps\n",
    "gmaps.configure(api_key=g_key)\n",
    "\n",
    "import numpy as np"
   ]
  },
  {
   "cell_type": "code",
   "execution_count": 11,
   "metadata": {},
   "outputs": [
    {
     "data": {
      "text/html": [
       "<div>\n",
       "<style scoped>\n",
       "    .dataframe tbody tr th:only-of-type {\n",
       "        vertical-align: middle;\n",
       "    }\n",
       "\n",
       "    .dataframe tbody tr th {\n",
       "        vertical-align: top;\n",
       "    }\n",
       "\n",
       "    .dataframe thead th {\n",
       "        text-align: right;\n",
       "    }\n",
       "</style>\n",
       "<table border=\"1\" class=\"dataframe\">\n",
       "  <thead>\n",
       "    <tr style=\"text-align: right;\">\n",
       "      <th></th>\n",
       "      <th>Hotel_ID</th>\n",
       "      <th>City</th>\n",
       "      <th>Country</th>\n",
       "      <th>Max Temp</th>\n",
       "      <th>Lat</th>\n",
       "      <th>Lng</th>\n",
       "      <th>Hotel Name</th>\n",
       "    </tr>\n",
       "  </thead>\n",
       "  <tbody>\n",
       "    <tr>\n",
       "      <th>0</th>\n",
       "      <td>3</td>\n",
       "      <td>Puerto Ayora</td>\n",
       "      <td>EC</td>\n",
       "      <td>71.78</td>\n",
       "      <td>-0.7393</td>\n",
       "      <td>-90.3518</td>\n",
       "      <td>Finch Bay Galapagos Hotel</td>\n",
       "    </tr>\n",
       "    <tr>\n",
       "      <th>1</th>\n",
       "      <td>8</td>\n",
       "      <td>Jamestown</td>\n",
       "      <td>US</td>\n",
       "      <td>71.24</td>\n",
       "      <td>42.0970</td>\n",
       "      <td>-79.2353</td>\n",
       "      <td>Hampton Inn &amp; Suites Jamestown</td>\n",
       "    </tr>\n",
       "    <tr>\n",
       "      <th>2</th>\n",
       "      <td>9</td>\n",
       "      <td>Nea Stira</td>\n",
       "      <td>GR</td>\n",
       "      <td>77.18</td>\n",
       "      <td>38.1833</td>\n",
       "      <td>24.2000</td>\n",
       "      <td>Venus Beach Hotel</td>\n",
       "    </tr>\n",
       "    <tr>\n",
       "      <th>3</th>\n",
       "      <td>10</td>\n",
       "      <td>Arraial Do Cabo</td>\n",
       "      <td>BR</td>\n",
       "      <td>71.56</td>\n",
       "      <td>-22.9661</td>\n",
       "      <td>-42.0278</td>\n",
       "      <td>Pousada Porto Praia</td>\n",
       "    </tr>\n",
       "    <tr>\n",
       "      <th>4</th>\n",
       "      <td>11</td>\n",
       "      <td>Kapaa</td>\n",
       "      <td>US</td>\n",
       "      <td>79.12</td>\n",
       "      <td>22.0752</td>\n",
       "      <td>-159.3190</td>\n",
       "      <td>Sheraton Kauai Coconut Beach Resort</td>\n",
       "    </tr>\n",
       "  </tbody>\n",
       "</table>\n",
       "</div>"
      ],
      "text/plain": [
       "   Hotel_ID             City Country  Max Temp      Lat       Lng  \\\n",
       "0         3     Puerto Ayora      EC     71.78  -0.7393  -90.3518   \n",
       "1         8        Jamestown      US     71.24  42.0970  -79.2353   \n",
       "2         9        Nea Stira      GR     77.18  38.1833   24.2000   \n",
       "3        10  Arraial Do Cabo      BR     71.56 -22.9661  -42.0278   \n",
       "4        11            Kapaa      US     79.12  22.0752 -159.3190   \n",
       "\n",
       "                            Hotel Name  \n",
       "0            Finch Bay Galapagos Hotel  \n",
       "1       Hampton Inn & Suites Jamestown  \n",
       "2                    Venus Beach Hotel  \n",
       "3                  Pousada Porto Praia  \n",
       "4  Sheraton Kauai Coconut Beach Resort  "
      ]
     },
     "execution_count": 11,
     "metadata": {},
     "output_type": "execute_result"
    }
   ],
   "source": [
    "# 1. Read the WeatherPy_vacation.csv into a DataFrame.\n",
    "\n",
    "vacation_df = pd.read_csv(\"weather_data/WeatherPy_vacation.csv\")\n",
    "vacation_df.head()"
   ]
  },
  {
   "cell_type": "code",
   "execution_count": 14,
   "metadata": {},
   "outputs": [],
   "source": [
    "# 2. Using the template add the city name, the country code, the weather description and maximum temperature for the city.\n",
    "info_box_template = \"\"\"\n",
    "<dl>\n",
    "<dt>Hotel Name</dt><dd>{Hotel Name}</dd>\n",
    "<dt>City</dt><dd>{City}</dd>\n",
    "<dt>Country</dt><dd>{Country}</dd>\n",
    "<dt>Max Temp</dt><dd>{Max Temp} °F</dd>\n",
    "</dl>\n",
    "\"\"\"\n",
    "\n",
    "# 3a. Get the data from each row and add it to the formatting template and store the data in a list.\n",
    "hotel_info = [info_box_template.format(**row) for index, row in vacation_df.iterrows()]\n",
    "\n",
    "# 3b. Get the latitude and longitude from each row and store in a new DataFrame.\n",
    "locations = vacation_df[[\"Lat\", \"Lng\"]]"
   ]
  },
  {
   "cell_type": "code",
   "execution_count": 15,
   "metadata": {},
   "outputs": [
    {
     "data": {
      "application/vnd.jupyter.widget-view+json": {
       "model_id": "f630df12ec904077910aecd4aea4e37f",
       "version_major": 2,
       "version_minor": 0
      },
      "text/plain": [
       "Figure(layout=FigureLayout(height='420px'))"
      ]
     },
     "metadata": {},
     "output_type": "display_data"
    }
   ],
   "source": [
    "# 4a. Add a marker layer for each city to the map.\n",
    "locations = vacation_df[[\"Lat\", \"Lng\"]]\n",
    "max_temp = vacation_df[\"Max Temp\"]\n",
    "fig = gmaps.figure(center=(30.0, 31.0), zoom_level=1.5)\n",
    "heat_layer = gmaps.heatmap_layer(locations, weights=max_temp,dissipating=False,\n",
    "             max_intensity=300, point_radius=4)\n",
    "marker_layer = gmaps.marker_layer(locations, info_box_content=hotel_info)\n",
    "fig.add_layer(heat_layer)\n",
    "fig.add_layer(marker_layer)\n",
    "\n",
    "# 4b. Display the figure\n",
    "fig\n"
   ]
  },
  {
   "cell_type": "code",
   "execution_count": 79,
   "metadata": {},
   "outputs": [
    {
     "data": {
      "text/html": [
       "<div>\n",
       "<style scoped>\n",
       "    .dataframe tbody tr th:only-of-type {\n",
       "        vertical-align: middle;\n",
       "    }\n",
       "\n",
       "    .dataframe tbody tr th {\n",
       "        vertical-align: top;\n",
       "    }\n",
       "\n",
       "    .dataframe thead th {\n",
       "        text-align: right;\n",
       "    }\n",
       "</style>\n",
       "<table border=\"1\" class=\"dataframe\">\n",
       "  <thead>\n",
       "    <tr style=\"text-align: right;\">\n",
       "      <th></th>\n",
       "      <th>Hotel_ID</th>\n",
       "      <th>City</th>\n",
       "      <th>Country</th>\n",
       "      <th>Max Temp</th>\n",
       "      <th>Lat</th>\n",
       "      <th>Lng</th>\n",
       "      <th>Hotel Name</th>\n",
       "    </tr>\n",
       "  </thead>\n",
       "  <tbody>\n",
       "    <tr>\n",
       "      <th>14</th>\n",
       "      <td>53</td>\n",
       "      <td>San Cristobal</td>\n",
       "      <td>VE</td>\n",
       "      <td>73.58</td>\n",
       "      <td>7.7669</td>\n",
       "      <td>-72.2250</td>\n",
       "      <td>Pirineos</td>\n",
       "    </tr>\n",
       "    <tr>\n",
       "      <th>29</th>\n",
       "      <td>179</td>\n",
       "      <td>Inirida</td>\n",
       "      <td>CO</td>\n",
       "      <td>72.59</td>\n",
       "      <td>3.8653</td>\n",
       "      <td>-67.9239</td>\n",
       "      <td>Fuente del Guania Hotel de Lujo</td>\n",
       "    </tr>\n",
       "    <tr>\n",
       "      <th>68</th>\n",
       "      <td>350</td>\n",
       "      <td>Purificacion</td>\n",
       "      <td>CO</td>\n",
       "      <td>72.55</td>\n",
       "      <td>3.8587</td>\n",
       "      <td>-74.9313</td>\n",
       "      <td>Hotel Villa de las Palmas</td>\n",
       "    </tr>\n",
       "    <tr>\n",
       "      <th>74</th>\n",
       "      <td>371</td>\n",
       "      <td>Mapiripan</td>\n",
       "      <td>CO</td>\n",
       "      <td>72.48</td>\n",
       "      <td>2.8892</td>\n",
       "      <td>-72.1256</td>\n",
       "      <td>Monserrate</td>\n",
       "    </tr>\n",
       "    <tr>\n",
       "      <th>94</th>\n",
       "      <td>461</td>\n",
       "      <td>Mani</td>\n",
       "      <td>CO</td>\n",
       "      <td>71.76</td>\n",
       "      <td>4.8172</td>\n",
       "      <td>-72.2886</td>\n",
       "      <td>Hotel Belgrado</td>\n",
       "    </tr>\n",
       "  </tbody>\n",
       "</table>\n",
       "</div>"
      ],
      "text/plain": [
       "    Hotel_ID           City Country  Max Temp     Lat      Lng  \\\n",
       "14        53  San Cristobal      VE     73.58  7.7669 -72.2250   \n",
       "29       179        Inirida      CO     72.59  3.8653 -67.9239   \n",
       "68       350   Purificacion      CO     72.55  3.8587 -74.9313   \n",
       "74       371      Mapiripan      CO     72.48  2.8892 -72.1256   \n",
       "94       461           Mani      CO     71.76  4.8172 -72.2886   \n",
       "\n",
       "                         Hotel Name  \n",
       "14                         Pirineos  \n",
       "29  Fuente del Guania Hotel de Lujo  \n",
       "68        Hotel Villa de las Palmas  \n",
       "74                       Monserrate  \n",
       "94                   Hotel Belgrado  "
      ]
     },
     "execution_count": 79,
     "metadata": {},
     "output_type": "execute_result"
    }
   ],
   "source": [
    "colombia_cities = vacation_df.loc[(vacation_df[\"Country\"] == \"CO\") | (vacation_df[\"Country\"] == \"VE\" )]\n",
    "colombia_cities"
   ]
  },
  {
   "cell_type": "code",
   "execution_count": 91,
   "metadata": {},
   "outputs": [],
   "source": [
    "# From the map above pick 4 cities and create a vacation itinerary route to travel between the four cities. \n",
    "# 5. Create DataFrames for each city by filtering the 'vacation_df' using the loc method. \n",
    "# Hint: The starting and ending city should be the same city.\n",
    "\n",
    "vacation_start = colombia_cities.loc[(colombia_cities[\"City\"] == \"Purificacion\")]\n",
    "vacation_end = colombia_cities.loc[(colombia_cities[\"City\"] == \"Purificacion\")]\n",
    "vacation_stop1 = colombia_cities.loc[(colombia_cities[\"City\"] == \"Mani\")]\n",
    "vacation_stop2 = colombia_cities.loc[(colombia_cities[\"City\"] == \"San Cristobal\")] \n",
    "vacation_stop3 =  colombia_cities.loc[(colombia_cities[\"City\"] == \"Mapiripan\")]\n",
    "vacation_stop4 = colombia_cities.loc[(colombia_cities[\"City\"]==\"Inirida\")]\n"
   ]
  },
  {
   "cell_type": "code",
   "execution_count": 92,
   "metadata": {},
   "outputs": [],
   "source": [
    "# 6. Get the latitude-longitude pairs as tuples from each city DataFrame using the to_numpy function and list indexing.\n",
    "start1 = vacation_start[\"Lat\"].to_numpy()\n",
    "start2 = vacation_start[\"Lng\"].to_numpy()\n",
    "start = np.concatenate((start1,start2))\n",
    "end = start\n",
    "\n",
    "stop1a = vacation_stop1[\"Lat\"].to_numpy()\n",
    "stop1b = vacation_stop1[\"Lng\"].to_numpy()\n",
    "stop1 = np.concatenate((stop1a,stop1b))\n",
    "\n",
    "stop2a = vacation_stop2[\"Lat\"].to_numpy()\n",
    "stop2b = vacation_stop2[\"Lng\"].to_numpy()\n",
    "stop2 = np.concatenate((stop2a,stop2b))\n",
    "\n",
    "stop3a = vacation_stop3[\"Lat\"].to_numpy()\n",
    "stop3b = vacation_stop3[\"Lng\"].to_numpy()\n",
    "stop3 = np.concatenate((stop3a,stop3b))"
   ]
  },
  {
   "cell_type": "code",
   "execution_count": 86,
   "metadata": {
    "scrolled": true
   },
   "outputs": [
    {
     "data": {
      "application/vnd.jupyter.widget-view+json": {
       "model_id": "e5d9c06944e54201a8b747d56da882de",
       "version_major": 2,
       "version_minor": 0
      },
      "text/plain": [
       "Figure(layout=FigureLayout(height='420px'))"
      ]
     },
     "metadata": {},
     "output_type": "display_data"
    }
   ],
   "source": [
    "# 7. Create a direction layer map using the start and end latitude-longitude pairs,\n",
    "# and stop1, stop2, and stop3 as the waypoints. The travel_mode should be \"DRIVING\", \"BICYCLING\", or \"WALKING\".\n",
    "import gmaps\n",
    "import gmaps.datasets\n",
    "\n",
    "fig = gmaps.figure()\n",
    "\n",
    "starttostop1 = gmaps.directions_layer(start, stop1, travel_mode='WALKING')\n",
    "fig.add_layer(starttostop1)\n",
    "\n",
    "stop1to2 = gmaps.directions_layer(stop1, stop2, travel_mode='WALKING')\n",
    "fig.add_layer(stop1to2)\n",
    "\n",
    "stop2toend = gmaps.directions_layer(stop2, end, travel_mode='WALKING')\n",
    "fig.add_layer(stop2toend)\n",
    "\n",
    "stop3 = gmaps.directions_layer(stop2, stop3, travel_mode='WALKING')\n",
    "fig.add_layer(stop3)\n",
    "\n",
    "fig\n"
   ]
  },
  {
   "cell_type": "code",
   "execution_count": 94,
   "metadata": {},
   "outputs": [
    {
     "data": {
      "text/html": [
       "<div>\n",
       "<style scoped>\n",
       "    .dataframe tbody tr th:only-of-type {\n",
       "        vertical-align: middle;\n",
       "    }\n",
       "\n",
       "    .dataframe tbody tr th {\n",
       "        vertical-align: top;\n",
       "    }\n",
       "\n",
       "    .dataframe thead th {\n",
       "        text-align: right;\n",
       "    }\n",
       "</style>\n",
       "<table border=\"1\" class=\"dataframe\">\n",
       "  <thead>\n",
       "    <tr style=\"text-align: right;\">\n",
       "      <th></th>\n",
       "      <th>Hotel_ID</th>\n",
       "      <th>City</th>\n",
       "      <th>Country</th>\n",
       "      <th>Max Temp</th>\n",
       "      <th>Lat</th>\n",
       "      <th>Lng</th>\n",
       "      <th>Hotel Name</th>\n",
       "    </tr>\n",
       "  </thead>\n",
       "  <tbody>\n",
       "    <tr>\n",
       "      <th>0</th>\n",
       "      <td>350</td>\n",
       "      <td>Purificacion</td>\n",
       "      <td>CO</td>\n",
       "      <td>72.55</td>\n",
       "      <td>3.8587</td>\n",
       "      <td>-74.9313</td>\n",
       "      <td>Hotel Villa de las Palmas</td>\n",
       "    </tr>\n",
       "    <tr>\n",
       "      <th>1</th>\n",
       "      <td>461</td>\n",
       "      <td>Mani</td>\n",
       "      <td>CO</td>\n",
       "      <td>71.76</td>\n",
       "      <td>4.8172</td>\n",
       "      <td>-72.2886</td>\n",
       "      <td>Hotel Belgrado</td>\n",
       "    </tr>\n",
       "    <tr>\n",
       "      <th>2</th>\n",
       "      <td>53</td>\n",
       "      <td>San Cristobal</td>\n",
       "      <td>VE</td>\n",
       "      <td>73.58</td>\n",
       "      <td>7.7669</td>\n",
       "      <td>-72.2250</td>\n",
       "      <td>Pirineos</td>\n",
       "    </tr>\n",
       "    <tr>\n",
       "      <th>3</th>\n",
       "      <td>371</td>\n",
       "      <td>Mapiripan</td>\n",
       "      <td>CO</td>\n",
       "      <td>72.48</td>\n",
       "      <td>2.8892</td>\n",
       "      <td>-72.1256</td>\n",
       "      <td>Monserrate</td>\n",
       "    </tr>\n",
       "    <tr>\n",
       "      <th>4</th>\n",
       "      <td>179</td>\n",
       "      <td>Inirida</td>\n",
       "      <td>CO</td>\n",
       "      <td>72.59</td>\n",
       "      <td>3.8653</td>\n",
       "      <td>-67.9239</td>\n",
       "      <td>Fuente del Guania Hotel de Lujo</td>\n",
       "    </tr>\n",
       "  </tbody>\n",
       "</table>\n",
       "</div>"
      ],
      "text/plain": [
       "   Hotel_ID           City Country  Max Temp     Lat      Lng  \\\n",
       "0       350   Purificacion      CO     72.55  3.8587 -74.9313   \n",
       "1       461           Mani      CO     71.76  4.8172 -72.2886   \n",
       "2        53  San Cristobal      VE     73.58  7.7669 -72.2250   \n",
       "3       371      Mapiripan      CO     72.48  2.8892 -72.1256   \n",
       "4       179        Inirida      CO     72.59  3.8653 -67.9239   \n",
       "\n",
       "                        Hotel Name  \n",
       "0        Hotel Villa de las Palmas  \n",
       "1                   Hotel Belgrado  \n",
       "2                         Pirineos  \n",
       "3                       Monserrate  \n",
       "4  Fuente del Guania Hotel de Lujo  "
      ]
     },
     "execution_count": 94,
     "metadata": {},
     "output_type": "execute_result"
    }
   ],
   "source": [
    "# 8. To create a marker layer map between the four cities.\n",
    "#  Combine the four city DataFrames into one DataFrame using the concat() function.\n",
    "itinerary_df = pd.concat([vacation_start, vacation_stop1, vacation_stop2, vacation_stop3, vacation_stop4],ignore_index=True)\n",
    "itinerary_df"
   ]
  },
  {
   "cell_type": "code",
   "execution_count": 96,
   "metadata": {},
   "outputs": [],
   "source": [
    "# 9 Using the template add city name, the country code, the weather description and maximum temperature for the city. \n",
    "info_box_template = \"\"\"\n",
    "<dl>\n",
    "<dt>Hotel Name</dt><dd>{Hotel Name}</dd>\n",
    "<dt>City</dt><dd>{City}</dd>\n",
    "<dt>Country</dt><dd>{Country}</dd>\n",
    "<dt>Max Temp</dt><dd>{Max Temp} °F</dd>\n",
    "</dl>\n",
    "\"\"\"\n",
    "# 10a Get the data from each row and add it to the formatting template and store the data in a list.\n",
    "hotel_info = [info_box_template.format(**row) for index, row in itinerary_df.iterrows()]\n",
    "\n",
    "# 10b. Get the latitude and longitude from each row and store in a new DataFrame.\n",
    "locations = itinerary_df[[\"Lat\", \"Lng\"]]"
   ]
  },
  {
   "cell_type": "code",
   "execution_count": 97,
   "metadata": {},
   "outputs": [
    {
     "data": {
      "application/vnd.jupyter.widget-view+json": {
       "model_id": "df5214f2275d424c9ea5f0fb11108e6c",
       "version_major": 2,
       "version_minor": 0
      },
      "text/plain": [
       "Figure(layout=FigureLayout(height='420px'))"
      ]
     },
     "metadata": {},
     "output_type": "display_data"
    }
   ],
   "source": [
    "# 11a. Add a marker layer for each city to the map.\n",
    "locations = itinerary_df[[\"Lat\", \"Lng\"]]\n",
    "max_temp = itinerary_df[\"Max Temp\"]\n",
    "fig = gmaps.figure(center=(30.0, 31.0), zoom_level=1.5)\n",
    "heat_layer = gmaps.heatmap_layer(locations, weights=max_temp,dissipating=False,\n",
    "             max_intensity=300, point_radius=4)\n",
    "marker_layer = gmaps.marker_layer(locations, info_box_content=hotel_info)\n",
    "fig.add_layer(heat_layer)\n",
    "fig.add_layer(marker_layer)\n",
    "\n",
    "# 11b. Display the figure\n",
    "fig"
   ]
  },
  {
   "cell_type": "code",
   "execution_count": null,
   "metadata": {},
   "outputs": [],
   "source": []
  }
 ],
 "metadata": {
  "kernelspec": {
   "display_name": "PythonData",
   "language": "python",
   "name": "pythondata"
  },
  "language_info": {
   "codemirror_mode": {
    "name": "ipython",
    "version": 3
   },
   "file_extension": ".py",
   "mimetype": "text/x-python",
   "name": "python",
   "nbconvert_exporter": "python",
   "pygments_lexer": "ipython3",
   "version": "3.9.7"
  },
  "latex_envs": {
   "LaTeX_envs_menu_present": true,
   "autoclose": false,
   "autocomplete": true,
   "bibliofile": "biblio.bib",
   "cite_by": "apalike",
   "current_citInitial": 1,
   "eqLabelWithNumbers": true,
   "eqNumInitial": 1,
   "hotkeys": {
    "equation": "Ctrl-E",
    "itemize": "Ctrl-I"
   },
   "labels_anchors": false,
   "latex_user_defs": false,
   "report_style_numbering": false,
   "user_envs_cfg": false
  }
 },
 "nbformat": 4,
 "nbformat_minor": 2
}
